{
  "nbformat": 4,
  "nbformat_minor": 0,
  "metadata": {
    "colab": {
      "provenance": [],
      "authorship_tag": "ABX9TyMpj5sybEBa3J2s+DeaGv2M",
      "include_colab_link": true
    },
    "kernelspec": {
      "name": "python3",
      "display_name": "Python 3"
    },
    "language_info": {
      "name": "python"
    }
  },
  "cells": [
    {
      "cell_type": "markdown",
      "metadata": {
        "id": "view-in-github",
        "colab_type": "text"
      },
      "source": [
        "<a href=\"https://colab.research.google.com/github/Bouer/Sympy_Colab/blob/main/sympy_clase2.ipynb\" target=\"_parent\"><img src=\"https://colab.research.google.com/assets/colab-badge.svg\" alt=\"Open In Colab\"/></a>"
      ]
    },
    {
      "cell_type": "code",
      "execution_count": 8,
      "metadata": {
        "id": "HdyPRpzVrcss"
      },
      "outputs": [],
      "source": [
        "import sympy as sy"
      ]
    },
    {
      "cell_type": "markdown",
      "source": [
        "# **IMPRESION EN PANTALLA**\n",
        "\n",
        "*  Str\n",
        "*  ASCII\n",
        "*  Unicode\n",
        "*  Latex (Predeterminado)\n",
        "*  MathML\n"
      ],
      "metadata": {
        "id": "RDWfo2_qrdpz"
      }
    },
    {
      "cell_type": "code",
      "source": [
        "#sy.init_printing() #para configurar el tipo de impresion"
      ],
      "metadata": {
        "id": "bdt4L08MsIMU"
      },
      "execution_count": 3,
      "outputs": []
    },
    {
      "cell_type": "code",
      "source": [
        "x,y = sy.symbols(\"x y\")\n",
        "\n",
        "x**2 + 2 + y**2"
      ],
      "metadata": {
        "colab": {
          "base_uri": "https://localhost:8080/",
          "height": 38
        },
        "id": "eFRgf5-TsN9e",
        "outputId": "bb176287-47c0-407b-8a88-c53800c554a9"
      },
      "execution_count": 9,
      "outputs": [
        {
          "output_type": "execute_result",
          "data": {
            "text/plain": [
              "x**2 + y**2 + 2"
            ],
            "text/latex": "$\\displaystyle x^{2} + y^{2} + 2$"
          },
          "metadata": {},
          "execution_count": 9
        }
      ]
    },
    {
      "cell_type": "code",
      "source": [
        "str(x**2+2+y**2)"
      ],
      "metadata": {
        "colab": {
          "base_uri": "https://localhost:8080/",
          "height": 35
        },
        "id": "taiu1ZagsQjL",
        "outputId": "a3b7f675-9498-4340-a077-2e93611efb03"
      },
      "execution_count": 10,
      "outputs": [
        {
          "output_type": "execute_result",
          "data": {
            "text/plain": [
              "'x**2 + y**2 + 2'"
            ],
            "application/vnd.google.colaboratory.intrinsic+json": {
              "type": "string"
            }
          },
          "metadata": {},
          "execution_count": 10
        }
      ]
    },
    {
      "cell_type": "code",
      "source": [
        "sy.pprint(x**2+2+y**2,use_unicode=True) #Unicode"
      ],
      "metadata": {
        "colab": {
          "base_uri": "https://localhost:8080/"
        },
        "id": "FHf26rmj0T20",
        "outputId": "8467fa15-332d-479b-835b-d858b7cd8674"
      },
      "execution_count": 11,
      "outputs": [
        {
          "output_type": "stream",
          "name": "stdout",
          "text": [
            " 2    2    \n",
            "x  + y  + 2\n"
          ]
        }
      ]
    },
    {
      "cell_type": "code",
      "source": [
        "sy.pprint(x**2+y**2+2,use_unicode=False) #ASCII"
      ],
      "metadata": {
        "colab": {
          "base_uri": "https://localhost:8080/"
        },
        "id": "PN52x90l0aaT",
        "outputId": "efe0c082-245c-4ec7-ee21-4cf70a4bb54f"
      },
      "execution_count": 12,
      "outputs": [
        {
          "output_type": "stream",
          "name": "stdout",
          "text": [
            " 2    2    \n",
            "x  + y  + 2\n"
          ]
        }
      ]
    },
    {
      "cell_type": "code",
      "source": [
        "#Integral(funcion, simbolo para integrar)\n",
        "Sum = sy.Integral(sy.exp(-x**2),x)\n",
        "\n",
        "Sum"
      ],
      "metadata": {
        "colab": {
          "base_uri": "https://localhost:8080/",
          "height": 55
        },
        "id": "-JmfUMXc0k11",
        "outputId": "e11a836a-319c-4995-d288-b0278ac03df5"
      },
      "execution_count": 14,
      "outputs": [
        {
          "output_type": "execute_result",
          "data": {
            "text/plain": [
              "Integral(exp(-x**2), x)"
            ],
            "text/latex": "$\\displaystyle \\int e^{- x^{2}}\\, dx$"
          },
          "metadata": {},
          "execution_count": 14
        }
      ]
    },
    {
      "cell_type": "code",
      "source": [
        "str(Sum)"
      ],
      "metadata": {
        "colab": {
          "base_uri": "https://localhost:8080/",
          "height": 35
        },
        "id": "A4uEWyXh01t7",
        "outputId": "458a0ee8-7173-4885-f617-eb86a0d32f38"
      },
      "execution_count": 16,
      "outputs": [
        {
          "output_type": "execute_result",
          "data": {
            "text/plain": [
              "'Integral(exp(-x**2), x)'"
            ],
            "application/vnd.google.colaboratory.intrinsic+json": {
              "type": "string"
            }
          },
          "metadata": {},
          "execution_count": 16
        }
      ]
    },
    {
      "cell_type": "code",
      "source": [
        "sy.pprint(Sum,use_unicode=True) #Unicode\n",
        "sy.pprint(Sum,use_unicode=False) #ASCII"
      ],
      "metadata": {
        "colab": {
          "base_uri": "https://localhost:8080/"
        },
        "id": "VtmjJkf91TZD",
        "outputId": "adb35e2a-d988-4641-f5df-14912ab08f38"
      },
      "execution_count": 17,
      "outputs": [
        {
          "output_type": "stream",
          "name": "stdout",
          "text": [
            "⌠        \n",
            "⎮    2   \n",
            "⎮  -x    \n",
            "⎮ ℯ    dx\n",
            "⌡        \n",
            "  /       \n",
            " |        \n",
            " |    2   \n",
            " |  -x    \n",
            " | e    dx\n",
            " |        \n",
            "/         \n"
          ]
        }
      ]
    },
    {
      "cell_type": "code",
      "source": [
        "sy.latex(Sum)"
      ],
      "metadata": {
        "colab": {
          "base_uri": "https://localhost:8080/",
          "height": 35
        },
        "id": "c72BYL801c-s",
        "outputId": "47f6ece1-90d8-4bbb-d5bc-1206265c40a4"
      },
      "execution_count": 18,
      "outputs": [
        {
          "output_type": "execute_result",
          "data": {
            "text/plain": [
              "'\\\\int e^{- x^{2}}\\\\, dx'"
            ],
            "application/vnd.google.colaboratory.intrinsic+json": {
              "type": "string"
            }
          },
          "metadata": {},
          "execution_count": 18
        }
      ]
    },
    {
      "cell_type": "code",
      "source": [],
      "metadata": {
        "id": "8-tUpz8J2BQU"
      },
      "execution_count": null,
      "outputs": []
    }
  ]
}