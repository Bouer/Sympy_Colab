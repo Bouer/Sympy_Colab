{
  "nbformat": 4,
  "nbformat_minor": 0,
  "metadata": {
    "colab": {
      "provenance": [],
      "authorship_tag": "ABX9TyOf8t5sSMmde9KZY1pzrPC9",
      "include_colab_link": true
    },
    "kernelspec": {
      "name": "python3",
      "display_name": "Python 3"
    },
    "language_info": {
      "name": "python"
    }
  },
  "cells": [
    {
      "cell_type": "markdown",
      "metadata": {
        "id": "view-in-github",
        "colab_type": "text"
      },
      "source": [
        "<a href=\"https://colab.research.google.com/github/Bouer/Sympy_Colab/blob/main/sympy_clase3.ipynb\" target=\"_parent\"><img src=\"https://colab.research.google.com/assets/colab-badge.svg\" alt=\"Open In Colab\"/></a>"
      ]
    },
    {
      "cell_type": "code",
      "execution_count": 1,
      "metadata": {
        "id": "vJl7SO0k2l8z"
      },
      "outputs": [],
      "source": [
        "import sympy as sy"
      ]
    },
    {
      "cell_type": "markdown",
      "source": [
        "### Derivadas o Integrales"
      ],
      "metadata": {
        "id": "dQ-Xt7dtMFuo"
      }
    },
    {
      "cell_type": "code",
      "source": [
        "x = sy.symbols(\"x\")"
      ],
      "metadata": {
        "id": "S6R8Tcvw2qSe"
      },
      "execution_count": 5,
      "outputs": []
    },
    {
      "cell_type": "code",
      "source": [
        "#exp() - utilizamos el exponente de euler\n",
        "f = sy.exp(x**2)\n",
        "f"
      ],
      "metadata": {
        "colab": {
          "base_uri": "https://localhost:8080/",
          "height": 40
        },
        "id": "N8aq1r4SNHwz",
        "outputId": "89650616-0152-4132-d8d8-792ad54ed433"
      },
      "execution_count": 8,
      "outputs": [
        {
          "output_type": "execute_result",
          "data": {
            "text/plain": [
              "exp(x**2)"
            ],
            "text/latex": "$\\displaystyle e^{x^{2}}$"
          },
          "metadata": {},
          "execution_count": 8
        }
      ]
    },
    {
      "cell_type": "code",
      "source": [
        "#diff() - se usa para derivar (funcion, simbolo con respecto a cual queremos derivarlo)\n",
        "sy.diff(f,x)"
      ],
      "metadata": {
        "colab": {
          "base_uri": "https://localhost:8080/",
          "height": 40
        },
        "id": "2uQNkzYpMjHT",
        "outputId": "b21ccadf-f29c-4e98-852a-099a2c87bbdd"
      },
      "execution_count": 4,
      "outputs": [
        {
          "output_type": "execute_result",
          "data": {
            "text/plain": [
              "2*x*exp(x**2)"
            ],
            "text/latex": "$\\displaystyle 2 x e^{x^{2}}$"
          },
          "metadata": {},
          "execution_count": 4
        }
      ]
    },
    {
      "cell_type": "code",
      "source": [
        "g = sy.exp(-x)\n",
        "g"
      ],
      "metadata": {
        "colab": {
          "base_uri": "https://localhost:8080/",
          "height": 38
        },
        "id": "bcJ52qa8MrTr",
        "outputId": "cbea90f4-e84f-4fe2-e2a5-41a1c0621093"
      },
      "execution_count": 10,
      "outputs": [
        {
          "output_type": "execute_result",
          "data": {
            "text/plain": [
              "exp(-x)"
            ],
            "text/latex": "$\\displaystyle e^{- x}$"
          },
          "metadata": {},
          "execution_count": 10
        }
      ]
    },
    {
      "cell_type": "code",
      "source": [
        "#integrate() - para realizar la integral (funcion, simbolo con respecto al cual queremos que integre)\n",
        "sy.integrate(g,x)"
      ],
      "metadata": {
        "colab": {
          "base_uri": "https://localhost:8080/",
          "height": 38
        },
        "id": "aTgTwzNQNSds",
        "outputId": "d56ff43e-1dac-4670-c4ce-8760621750a5"
      },
      "execution_count": 13,
      "outputs": [
        {
          "output_type": "execute_result",
          "data": {
            "text/plain": [
              "-exp(-x)"
            ],
            "text/latex": "$\\displaystyle - e^{- x}$"
          },
          "metadata": {},
          "execution_count": 13
        }
      ]
    },
    {
      "cell_type": "code",
      "source": [
        "sy.integrate(g, (x,0,sy.oo))"
      ],
      "metadata": {
        "colab": {
          "base_uri": "https://localhost:8080/",
          "height": 38
        },
        "id": "mMThDirFNhS0",
        "outputId": "35ed4bca-b8b1-49ac-8a92-15cb7bcc9e32"
      },
      "execution_count": 16,
      "outputs": [
        {
          "output_type": "execute_result",
          "data": {
            "text/plain": [
              "1"
            ],
            "text/latex": "$\\displaystyle 1$"
          },
          "metadata": {},
          "execution_count": 16
        }
      ]
    },
    {
      "cell_type": "markdown",
      "source": [
        "$$ \\int_{0} ^{\\infty} e^{-x},dx\\ $$\n",
        "\n",
        "```\n",
        "\\int_{0} ^{\\infty} e^{-x},dx\\\n",
        "```\n",
        "\n"
      ],
      "metadata": {
        "id": "-K3nNJ1DOMCr"
      }
    },
    {
      "cell_type": "code",
      "source": [
        "# Para integral definida (funcion , ( simbolo, limite sup , limite inf) )\n",
        "# Para hacer el infinito sy.oo = infinito\n",
        "sy.integrate (g, (x,0,sy.oo))"
      ],
      "metadata": {
        "colab": {
          "base_uri": "https://localhost:8080/",
          "height": 38
        },
        "id": "RhG1iXG8OKOD",
        "outputId": "7895dd9e-8c37-4db4-982e-7a2a7bd6a272"
      },
      "execution_count": 19,
      "outputs": [
        {
          "output_type": "execute_result",
          "data": {
            "text/plain": [
              "1"
            ],
            "text/latex": "$\\displaystyle 1$"
          },
          "metadata": {},
          "execution_count": 19
        }
      ]
    },
    {
      "cell_type": "code",
      "source": [
        "#Con el Integral() Me muestra la integral\n",
        "Sum = sy.Integral (sy.exp(-x**2),x)\n",
        "\n",
        "Sum"
      ],
      "metadata": {
        "colab": {
          "base_uri": "https://localhost:8080/",
          "height": 55
        },
        "id": "VVc7O7XjPKnT",
        "outputId": "22004fc1-4544-43ef-90e2-63d2977ffc70"
      },
      "execution_count": 20,
      "outputs": [
        {
          "output_type": "execute_result",
          "data": {
            "text/plain": [
              "Integral(exp(-x**2), x)"
            ],
            "text/latex": "$\\displaystyle \\int e^{- x^{2}}\\, dx$"
          },
          "metadata": {},
          "execution_count": 20
        }
      ]
    },
    {
      "cell_type": "code",
      "source": [
        "Sum.doit()#Para resolverla"
      ],
      "metadata": {
        "colab": {
          "base_uri": "https://localhost:8080/",
          "height": 54
        },
        "id": "F4ctS5TIPqkc",
        "outputId": "6cd78ca8-6a82-4030-94d9-f985cbf18e42"
      },
      "execution_count": 21,
      "outputs": [
        {
          "output_type": "execute_result",
          "data": {
            "text/plain": [
              "sqrt(pi)*erf(x)/2"
            ],
            "text/latex": "$\\displaystyle \\frac{\\sqrt{\\pi} \\operatorname{erf}{\\left(x \\right)}}{2}$"
          },
          "metadata": {},
          "execution_count": 21
        }
      ]
    },
    {
      "cell_type": "markdown",
      "source": [
        "$$ \\int_{\\infty} ^{\\infty} e^{-x^2},dx\\ $$\n",
        "\n",
        "```\n",
        "$$ \\int_{\\infty} ^{\\infty} e^{-x^2},dx\\ $$\n",
        "```\n",
        "\n",
        "\n",
        "\n"
      ],
      "metadata": {
        "id": "ek2NZnTpSHWd"
      }
    },
    {
      "cell_type": "code",
      "source": [
        "sy.integrate(sy.exp(-x**2), (x,-sy.oo, sy.oo))"
      ],
      "metadata": {
        "colab": {
          "base_uri": "https://localhost:8080/",
          "height": 38
        },
        "id": "kxj6PyGRSE-9",
        "outputId": "e486006c-cfeb-4d96-e62b-47cda20e2c43"
      },
      "execution_count": 24,
      "outputs": [
        {
          "output_type": "execute_result",
          "data": {
            "text/plain": [
              "sqrt(pi)"
            ],
            "text/latex": "$\\displaystyle \\sqrt{\\pi}$"
          },
          "metadata": {},
          "execution_count": 24
        }
      ]
    },
    {
      "cell_type": "code",
      "source": [
        "# limit() Se utiliza para calcular el limite\n",
        "\n",
        "h = 1/x\n",
        "# limit (funcion, variable, hacia donde me quiero acercar para realizar el limimte)\n",
        "sy.limit(h,x,0) "
      ],
      "metadata": {
        "colab": {
          "base_uri": "https://localhost:8080/",
          "height": 38
        },
        "id": "Wei7Z8GLS4Xz",
        "outputId": "ce6c4863-dd13-4710-a103-05894091dc13"
      },
      "execution_count": 26,
      "outputs": [
        {
          "output_type": "execute_result",
          "data": {
            "text/plain": [
              "0"
            ],
            "text/latex": "$\\displaystyle 0$"
          },
          "metadata": {},
          "execution_count": 26
        }
      ]
    },
    {
      "cell_type": "code",
      "source": [
        "sy.limit(h,x,sy.oo)"
      ],
      "metadata": {
        "colab": {
          "base_uri": "https://localhost:8080/",
          "height": 38
        },
        "id": "JD5pydAzTksr",
        "outputId": "ebec1715-3cde-47d6-a427-b5d10a608311"
      },
      "execution_count": 27,
      "outputs": [
        {
          "output_type": "execute_result",
          "data": {
            "text/plain": [
              "0"
            ],
            "text/latex": "$\\displaystyle 0$"
          },
          "metadata": {},
          "execution_count": 27
        }
      ]
    },
    {
      "cell_type": "code",
      "source": [],
      "metadata": {
        "id": "hO2mCz_rTr5y"
      },
      "execution_count": null,
      "outputs": []
    }
  ]
}