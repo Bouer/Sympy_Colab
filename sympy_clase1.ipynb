{
  "nbformat": 4,
  "nbformat_minor": 0,
  "metadata": {
    "colab": {
      "provenance": [],
      "authorship_tag": "ABX9TyODjyAsqOCR3GuBnap+8nXa",
      "include_colab_link": true
    },
    "kernelspec": {
      "name": "python3",
      "display_name": "Python 3"
    },
    "language_info": {
      "name": "python"
    }
  },
  "cells": [
    {
      "cell_type": "markdown",
      "metadata": {
        "id": "view-in-github",
        "colab_type": "text"
      },
      "source": [
        "<a href=\"https://colab.research.google.com/github/Bouer/Sympy_Colab/blob/main/sympy_clase1.ipynb\" target=\"_parent\"><img src=\"https://colab.research.google.com/assets/colab-badge.svg\" alt=\"Open In Colab\"/></a>"
      ]
    },
    {
      "cell_type": "code",
      "execution_count": 4,
      "metadata": {
        "colab": {
          "base_uri": "https://localhost:8080/",
          "height": 56
        },
        "id": "wcfqTRrCWYWE",
        "outputId": "472d0c73-cefc-45ca-f856-1096c26fed62"
      },
      "outputs": [
        {
          "output_type": "stream",
          "name": "stdout",
          "text": [
            "2.8284271247461903\n"
          ]
        },
        {
          "output_type": "execute_result",
          "data": {
            "text/plain": [
              "2*sqrt(2)"
            ],
            "text/latex": "$\\displaystyle 2 \\sqrt{2}$"
          },
          "metadata": {},
          "execution_count": 4
        }
      ],
      "source": [
        "import sympy as sy\n",
        "\n",
        "print((8)**(1/2)) #Raiz de 8 de forma numerica\n",
        "sy.sqrt(8) #Raiz de 8 con sympy como simbolo"
      ]
    },
    {
      "cell_type": "code",
      "source": [
        "#Declarar los simbolos\n",
        "\n",
        "#1ra forma:\n",
        "#x = sy.symbols(\"x\")\n",
        "#y = sy.symbols(\"y\")\n",
        "\n",
        "#2da Forma: todo en una linea\n",
        "x , y = sy.symbols(\"x y\")\n",
        "\n",
        "print (x + 3*y) #Ejemplo de funcion con simbolos\n",
        "type(x)"
      ],
      "metadata": {
        "colab": {
          "base_uri": "https://localhost:8080/"
        },
        "id": "qhJXtSlfXS9l",
        "outputId": "2687c32d-5b23-4d85-eaa2-cf5d8db43617"
      },
      "execution_count": 10,
      "outputs": [
        {
          "output_type": "stream",
          "name": "stdout",
          "text": [
            "x + 3*y\n"
          ]
        },
        {
          "output_type": "execute_result",
          "data": {
            "text/plain": [
              "sympy.core.symbol.Symbol"
            ]
          },
          "metadata": {},
          "execution_count": 10
        }
      ]
    },
    {
      "cell_type": "code",
      "source": [
        "Exp = x**2 + y\n",
        "\n",
        "print (Exp - x**2)"
      ],
      "metadata": {
        "colab": {
          "base_uri": "https://localhost:8080/"
        },
        "id": "CktI5s0fYPQb",
        "outputId": "df5b1e39-4d5b-426e-fc97-7595c58f3e20"
      },
      "execution_count": 12,
      "outputs": [
        {
          "output_type": "stream",
          "name": "stdout",
          "text": [
            "y\n"
          ]
        }
      ]
    },
    {
      "cell_type": "code",
      "source": [
        "#Factor() - Nos realiza el factoreo\n",
        "\n",
        "Exp1 = x**2 + 2*x*y + y**2 \n",
        "\n",
        "sy.factor(Exp1)"
      ],
      "metadata": {
        "colab": {
          "base_uri": "https://localhost:8080/",
          "height": 39
        },
        "id": "1dFOWma8ZGOs",
        "outputId": "d13123ef-d086-4984-d50f-7acf6647e560"
      },
      "execution_count": 14,
      "outputs": [
        {
          "output_type": "execute_result",
          "data": {
            "text/plain": [
              "(x + y)**2"
            ],
            "text/latex": "$\\displaystyle \\left(x + y\\right)^{2}$"
          },
          "metadata": {},
          "execution_count": 14
        }
      ]
    },
    {
      "cell_type": "code",
      "source": [
        "#Subs (simbolo utilizado, n por el cual lo quiero sustituir)\n",
        "Exp2 = x**2 + 2*x\n",
        "\n",
        "print ( Exp2)\n",
        "\n",
        "\n",
        "Exp2.subs(x,1) #Resuelve la funcion"
      ],
      "metadata": {
        "colab": {
          "base_uri": "https://localhost:8080/",
          "height": 55
        },
        "id": "12gKRKHOZXWU",
        "outputId": "592e9353-0ca7-47c2-f0ab-5d2344fd4bb6"
      },
      "execution_count": 17,
      "outputs": [
        {
          "output_type": "stream",
          "name": "stdout",
          "text": [
            "x**2 + 2*x\n"
          ]
        },
        {
          "output_type": "execute_result",
          "data": {
            "text/plain": [
              "3"
            ],
            "text/latex": "$\\displaystyle 3$"
          },
          "metadata": {},
          "execution_count": 17
        }
      ]
    },
    {
      "cell_type": "code",
      "source": [
        "#Simplify() = Nos simplifica\n",
        "a , b = sy.symbols (\"a b\") #Definimos 2 simbolos mas\n",
        "\n",
        "Exp3 = (a**2)*b + 2*b - b #  Nos queda factorizado b(a**2+1)\n",
        "\n",
        "sy.simplify(Exp3)"
      ],
      "metadata": {
        "colab": {
          "base_uri": "https://localhost:8080/",
          "height": 38
        },
        "id": "0VcPH2YLZsej",
        "outputId": "c4b0ac5f-76e3-4bb0-b108-4a4d148abae2"
      },
      "execution_count": 18,
      "outputs": [
        {
          "output_type": "execute_result",
          "data": {
            "text/plain": [
              "b*(a**2 + 1)"
            ],
            "text/latex": "$\\displaystyle b \\left(a^{2} + 1\\right)$"
          },
          "metadata": {},
          "execution_count": 18
        }
      ]
    },
    {
      "cell_type": "markdown",
      "source": [
        "$cos^2(x) + sen^2(x) = 1$"
      ],
      "metadata": {
        "id": "dMbjXKP4bKk8"
      }
    },
    {
      "cell_type": "code",
      "source": [
        "#equals () nos compara 2 expresiones\n",
        "h = sy.cos(x)**2 + sy.sin(x)**2\n",
        "g = 1\n",
        "\n",
        "h.equals(g)"
      ],
      "metadata": {
        "colab": {
          "base_uri": "https://localhost:8080/"
        },
        "id": "yyOHh40qbecy",
        "outputId": "ad132703-777c-491a-f82d-dfa2822b99ec"
      },
      "execution_count": 23,
      "outputs": [
        {
          "output_type": "execute_result",
          "data": {
            "text/plain": [
              "True"
            ]
          },
          "metadata": {},
          "execution_count": 23
        }
      ]
    },
    {
      "cell_type": "code",
      "source": [
        "h == g  # Esta igual es Falsa porque el cos/sen son simbolos de sympy"
      ],
      "metadata": {
        "colab": {
          "base_uri": "https://localhost:8080/"
        },
        "id": "yw23J6kLftQ8",
        "outputId": "eada5403-4b74-4e47-fa1f-5fbe9eaf6d71"
      },
      "execution_count": 24,
      "outputs": [
        {
          "output_type": "execute_result",
          "data": {
            "text/plain": [
              "False"
            ]
          },
          "metadata": {},
          "execution_count": 24
        }
      ]
    },
    {
      "cell_type": "code",
      "source": [
        "# Integer() Los numeros son tratados de forma simbolica\n",
        "\n",
        "Number1 = sy.Integer(1)\n",
        "type(Number1)\n"
      ],
      "metadata": {
        "colab": {
          "base_uri": "https://localhost:8080/"
        },
        "id": "_YqM52Zsgizd",
        "outputId": "0a2075bc-bae0-4306-d0e0-83dcdc211f83"
      },
      "execution_count": 35,
      "outputs": [
        {
          "output_type": "execute_result",
          "data": {
            "text/plain": [
              "sympy.core.numbers.One"
            ]
          },
          "metadata": {},
          "execution_count": 35
        }
      ]
    },
    {
      "cell_type": "code",
      "source": [
        "\n",
        "Number2 = 1\n",
        "type(Number2)"
      ],
      "metadata": {
        "colab": {
          "base_uri": "https://localhost:8080/"
        },
        "id": "4VKbT6YghDwt",
        "outputId": "381ad95e-7abb-4977-aba9-b5ec6e320758"
      },
      "execution_count": 34,
      "outputs": [
        {
          "output_type": "execute_result",
          "data": {
            "text/plain": [
              "int"
            ]
          },
          "metadata": {},
          "execution_count": 34
        }
      ]
    },
    {
      "cell_type": "code",
      "source": [
        "z = sy.symbols (\"z\")\n",
        "\n",
        "Ec = x**2 + 2*x*y + z\n",
        "\n",
        "#Para pasarle varios valores a Subs() - Tenemos que pasarle una Tupla de listas\n",
        "# x=2 y=0 , z=1, Ec = 5\n",
        "Ec.subs([(x,2),(y,0),(z,1)])"
      ],
      "metadata": {
        "colab": {
          "base_uri": "https://localhost:8080/",
          "height": 37
        },
        "id": "qr9xXkunhQt0",
        "outputId": "292c5c4a-569a-4cbb-c9a7-7a10196f2244"
      },
      "execution_count": 37,
      "outputs": [
        {
          "output_type": "execute_result",
          "data": {
            "text/plain": [
              "5"
            ],
            "text/latex": "$\\displaystyle 5$"
          },
          "metadata": {},
          "execution_count": 37
        }
      ]
    },
    {
      "cell_type": "code",
      "source": [],
      "metadata": {
        "id": "SsBpJpcFh44t"
      },
      "execution_count": null,
      "outputs": []
    }
  ]
}